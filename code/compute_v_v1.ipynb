{
 "cells": [
  {
   "cell_type": "code",
   "execution_count": 1,
   "metadata": {},
   "outputs": [
    {
     "name": "stdout",
     "output_type": "stream",
     "text": [
      "1008 2.0085 0.03505493802630611 -0.0551\n",
      "Simulation Conditions Passed: True\n",
      "1001\n",
      "1015 2.042 0.03563962332572421 -0.0519\n",
      "Simulation Conditions Passed: True\n",
      "1001\n",
      "1000 2.1316 0.03720343833551113 -0.0068\n",
      "Simulation Conditions Passed: True\n",
      "1001\n",
      "1005 2.1375 0.0373064127613788 -0.0051\n",
      "Simulation Conditions Passed: True\n",
      "1001\n",
      "1009 2.111 0.0368439005096003 -0.0389\n",
      "Simulation Conditions Passed: True\n",
      "1001\n",
      "1019 2.119 0.03698352684975985 -0.0335\n",
      "Simulation Conditions Passed: True\n",
      "1001\n",
      "1020 2.0229 0.03530626543859329 -0.0062\n",
      "Simulation Conditions Passed: True\n",
      "1001\n",
      "1004 2.0624 0.03599567049313105 -0.0274\n",
      "Simulation Conditions Passed: True\n",
      "1001\n",
      "1002 2.1087 0.036803757936804425 0.0428\n",
      "Simulation Conditions Passed: True\n",
      "1001\n",
      "1006 2.0561 0.035885714750255406 -0.0315\n",
      "Simulation Conditions Passed: True\n",
      "1001\n",
      "1013 2.0732 0.036184166052346436 0.0365\n",
      "Simulation Conditions Passed: True\n",
      "1001\n",
      "1010 2.0637 0.03601835977340698 -0.0055\n",
      "Simulation Conditions Passed: True\n",
      "1001\n",
      "1008 2.0345 0.03550872363182463 0.0561\n",
      "Simulation Conditions Passed: True\n",
      "1001\n",
      "Gathered 13 sample trajectories\n",
      "[(0, 1), (0, 2), (0, 3), (0, 4), (0, 5), (0, 6), (0, 7), (0, 8), (0, 9), (0, 10), (0, 11), (1, 2), (1, 3), (1, 4), (1, 5), (1, 6), (1, 7), (1, 8), (1, 9), (1, 10), (1, 11), (2, 3), (2, 4), (2, 5), (2, 6), (2, 7), (2, 8), (2, 9), (2, 10), (2, 11), (3, 4), (3, 5), (3, 6), (3, 7), (3, 8), (3, 9), (3, 10), (3, 11), (4, 5), (4, 6), (4, 7), (4, 8), (4, 9), (4, 10), (4, 11), (5, 6), (5, 7), (5, 8), (5, 9), (5, 10), (5, 11), (6, 7), (6, 8), (6, 9), (6, 10), (6, 11), (7, 8), (7, 9), (7, 10), (7, 11), (8, 9), (8, 10), (8, 11), (9, 10), (9, 11), (10, 11)]\n",
      "1\n",
      "66000\n",
      "Y_test length 21780 test_predictions length 21780\n",
      "Mean Squared error 21.980701874775676\n",
      "Mean relative error 1.1296288839094157\n",
      "Mean sorted error 0.5790021850586142\n"
     ]
    },
    {
     "data": {
      "image/png": "[encoded data removed]",
      "text/plain": [
       "<matplotlib.figure.Figure at 0x7f1a1551d7b8>"
      ]
     },
     "metadata": {},
     "output_type": "display_data"
    }
   ],
   "source": [
    "import matplotlib\n",
    "\n",
    "%matplotlib inline\n",
    "\n",
    "from compute_v_v1 import nnOnStateSpace\n",
    "\n",
    "# time step default = 0.01, number of steps default = 100\n",
    "# dimensions default = 2, number of sample default = 50\n",
    "\n",
    "nnObject = nnOnStateSpace(samples=12, dimensions=16)\n",
    "\n",
    "# nnObject.setSteps(1000)\n",
    "\n",
    "nnObject.generateTrajectories()\n",
    "nnObject.createNN()\n",
    "nnObject.trainTestNN()"
   ]
  }
 ],
 "metadata": {
  "kernelspec": {
   "display_name": "Python 3",
   "language": "python",
   "name": "python3"
  },
  "language_info": {
   "codemirror_mode": {
    "name": "ipython",
    "version": 3
   },
   "file_extension": ".py",
   "mimetype": "text/x-python",
   "name": "python",
   "nbconvert_exporter": "python",
   "pygments_lexer": "ipython3",
   "version": "3.6.4"
  }
 },
 "nbformat": 4,
 "nbformat_minor": 2
}
